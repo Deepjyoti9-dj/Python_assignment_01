{
 "cells": [
  {
   "cell_type": "code",
   "execution_count": 1,
   "id": "f2b4ee1f-e58b-4bc2-85cb-8a30ebd25932",
   "metadata": {},
   "outputs": [],
   "source": [
    "#Q1. Create one variable containing following type of data:\n",
    "#(i) string\n",
    "#(ii) list\n",
    "#(iii) float\n",
    "#(iv) tuple\n",
    "\n",
    "#Answer to Q1.\n",
    "a=\"Deepjyoti\" #string\n",
    "b=[1,2,3,6+5j,\"Deepjyoti\",\"Debnath\"] #list\n",
    "c=45.875 #float\n",
    "d=(4,47,\"jupiter\",\"new\",7.987)#tuple"
   ]
  },
  {
   "cell_type": "code",
   "execution_count": 25,
   "id": "63c4340d-dc1b-4835-b2c7-15e4f207dfa4",
   "metadata": {},
   "outputs": [
    {
     "name": "stdout",
     "output_type": "stream",
     "text": [
      "<class 'str'>\n",
      "<class 'str'>\n",
      "<class 'list'>\n",
      "<class 'float'>\n"
     ]
    }
   ],
   "source": [
    "#Q2. Given are some following variables containing data:\n",
    "#(i) var1 = ‘ ‘\n",
    "#(ii) var2 = ‘[ DS , ML , Python]’\n",
    "#(iii) var3 = [ ‘DS’ , ’ML’ , ‘Python’ ]\n",
    "#(iv) var4 = 1.\n",
    "#What will be the data type of the above given variable.\n",
    "\n",
    "#Answer to Q2.\n",
    "var1 = ' '\n",
    "var2 = '[ DS , ML , Python]'\n",
    "var3 = [ 'DS' , 'ML' , 'Python' ]\n",
    "var4 = 1.\n",
    "print(type(var1))\n",
    "print(type(var2))\n",
    "print(type(var3))\n",
    "print(type(var4))"
   ]
  },
  {
   "cell_type": "code",
   "execution_count": 27,
   "id": "881f821f-8dac-4c16-98e1-8c5d6df8f7d4",
   "metadata": {},
   "outputs": [],
   "source": [
    "#Q3. Explain the use of the following operators using an example:\n",
    "#(i) /\n",
    "#(ii) %\n",
    "#(iii) //\n",
    "#(iv) **"
   ]
  },
  {
   "cell_type": "code",
   "execution_count": 28,
   "id": "7bb9e8ab-b1fc-4b15-bbac-16bae94266cd",
   "metadata": {},
   "outputs": [
    {
     "data": {
      "text/plain": [
       "2.5"
      ]
     },
     "execution_count": 28,
     "metadata": {},
     "output_type": "execute_result"
    }
   ],
   "source": [
    "#Answer to Q3.\n",
    "#(i) / \n",
    "#  This operator is used to find the quotient \n",
    "5/2"
   ]
  },
  {
   "cell_type": "code",
   "execution_count": 29,
   "id": "92d34212-b745-49c5-94bc-136d1b2a87e7",
   "metadata": {},
   "outputs": [
    {
     "data": {
      "text/plain": [
       "1"
      ]
     },
     "execution_count": 29,
     "metadata": {},
     "output_type": "execute_result"
    }
   ],
   "source": [
    "#Answer to Q3.\n",
    "#(ii) %\n",
    "#  This operator is used to find the remainder\n",
    "5%2"
   ]
  },
  {
   "cell_type": "code",
   "execution_count": 30,
   "id": "7814e11e-07b6-4e79-a924-0f8773f9e75a",
   "metadata": {},
   "outputs": [
    {
     "data": {
      "text/plain": [
       "2"
      ]
     },
     "execution_count": 30,
     "metadata": {},
     "output_type": "execute_result"
    }
   ],
   "source": [
    "#Answer to Q3.\n",
    "#(iii) // \n",
    "#  This operator is used to find the quotient and convert float data type into integer data type\n",
    "5//2"
   ]
  },
  {
   "cell_type": "code",
   "execution_count": 31,
   "id": "50b004fb-ba36-48d7-9f6d-0ba088731dd3",
   "metadata": {},
   "outputs": [
    {
     "data": {
      "text/plain": [
       "25"
      ]
     },
     "execution_count": 31,
     "metadata": {},
     "output_type": "execute_result"
    }
   ],
   "source": [
    "#Answer to Q3.\n",
    "#(iv) **\n",
    "#  This operator is used to find the power of any number\n",
    "5**2 #we know that square of 5 is 25"
   ]
  },
  {
   "cell_type": "code",
   "execution_count": 19,
   "id": "f20f77d9-035b-48d2-8be8-9d5232ff9337",
   "metadata": {},
   "outputs": [
    {
     "name": "stdout",
     "output_type": "stream",
     "text": [
      "3\n",
      "<class 'int'>\n",
      "4\n",
      "<class 'int'>\n",
      "65.54\n",
      "<class 'float'>\n",
      "Deepjyoti\n",
      "<class 'str'>\n",
      "(7+9j)\n",
      "<class 'complex'>\n",
      "True\n",
      "<class 'bool'>\n",
      "(5+7j)\n",
      "<class 'complex'>\n",
      "False\n",
      "<class 'bool'>\n",
      "7875.77\n",
      "<class 'float'>\n",
      "Deb\n",
      "<class 'str'>\n"
     ]
    }
   ],
   "source": [
    "#Q4. Create a list of length 10 of your choice containing multiple types of data. Using for loop print the\n",
    "#element and its data type.\n",
    "\n",
    "#Answer to Q4.\n",
    "l=[3,4,65.54,\"Deepjyoti\",7+9j,True,5+7j,False,7875.77,\"Deb\"]\n",
    "for i in l:\n",
    "    print(i)\n",
    "    print(type(i))"
   ]
  },
  {
   "cell_type": "code",
   "execution_count": 10,
   "id": "b4d031d9-21fc-4a72-8dac-6ded4b5a9d07",
   "metadata": {},
   "outputs": [
    {
     "name": "stdout",
     "output_type": "stream",
     "text": [
      "Enter 1st number A\n"
     ]
    },
    {
     "name": "stdin",
     "output_type": "stream",
     "text": [
      " 88\n"
     ]
    },
    {
     "name": "stdout",
     "output_type": "stream",
     "text": [
      "Enter 2nd number B\n"
     ]
    },
    {
     "name": "stdin",
     "output_type": "stream",
     "text": [
      " 22\n"
     ]
    },
    {
     "name": "stdout",
     "output_type": "stream",
     "text": [
      "88  is purely divisible by  22\n",
      "88  can be divisible  6 times from 1 to  22\n"
     ]
    }
   ],
   "source": [
    "#Q5. Using a while loop, verify if the number A is purely divisible by number B and if so then how many\n",
    "#times it can be divisible.\n",
    "\n",
    "#Answer to Q5.\n",
    "print(\"Enter 1st number A\")\n",
    "a=int(input())\n",
    "print(\"Enter 2nd number B\")\n",
    "b=int(input())\n",
    "while a%b==0: #to check a is divisible by b or not\n",
    "    print(a,\" is purely divisible by \",b)\n",
    "    break\n",
    "else:\n",
    "    print(a,\" is not divisible by \",b)\n",
    "count=0 #to count how many times it is divisible\n",
    "i=1\n",
    "while i<=b:\n",
    "    if a%i==0:\n",
    "        count+=1\n",
    "        i=i+1\n",
    "    else:\n",
    "        i=i+1\n",
    "print(a,\" can be divisible \",count,\"times from 1 to \",b)"
   ]
  },
  {
   "cell_type": "code",
   "execution_count": 15,
   "id": "317b9916-ed03-4126-9098-f547a46382eb",
   "metadata": {},
   "outputs": [
    {
     "name": "stdout",
     "output_type": "stream",
     "text": [
      "23  is not divisible by 3\n",
      "42  is divisible by 3\n",
      "33  is divisible by 3\n",
      "36  is divisible by 3\n",
      "13  is not divisible by 3\n",
      "34346  is not divisible by 3\n",
      "5464  is not divisible by 3\n",
      "5  is not divisible by 3\n",
      "5465  is not divisible by 3\n",
      "9  is divisible by 3\n",
      "909  is divisible by 3\n",
      "88  is not divisible by 3\n",
      "987  is divisible by 3\n",
      "988  is not divisible by 3\n",
      "77  is not divisible by 3\n",
      "78  is divisible by 3\n",
      "789  is divisible by 3\n",
      "98  is not divisible by 3\n",
      "46  is not divisible by 3\n",
      "65  is not divisible by 3\n",
      "66  is divisible by 3\n",
      "53  is not divisible by 3\n",
      "42  is divisible by 3\n",
      "235  is not divisible by 3\n",
      "55  is not divisible by 3\n"
     ]
    }
   ],
   "source": [
    "#Q6. Create a list containing 25 int type data. Using for loop and if-else condition print if the element is\n",
    "#divisible by 3 or not.\n",
    "\n",
    "#Answer to Q6.\n",
    "li=[23,42,33,36,13,34346,5464,5,5465,9,909,88,987,988,77,78,789,98,46,65,66,53,42,235,55]\n",
    "for i in li:\n",
    "    if i%3==0:\n",
    "        print(i,\" is divisible by 3\")\n",
    "    else:\n",
    "        print(i,\" is not divisible by 3\")"
   ]
  },
  {
   "cell_type": "code",
   "execution_count": 18,
   "id": "35436f81-d1b5-47c3-bf49-bb8f50b9742b",
   "metadata": {},
   "outputs": [],
   "source": [
    "#Q7. What do you understand about mutable and immutable data types? Give examples for both showing\n",
    "#this property.\n"
   ]
  },
  {
   "cell_type": "code",
   "execution_count": 20,
   "id": "af93716b-84a6-4a81-8583-7a0f0b235fd2",
   "metadata": {},
   "outputs": [
    {
     "data": {
      "text/plain": [
       "[32342, 'new', 54676.656, True]"
      ]
     },
     "execution_count": 20,
     "metadata": {},
     "output_type": "execute_result"
    }
   ],
   "source": [
    "#Answer to Q7.\n",
    "# Mutable data types are those data types which have indexing i.e foreward indexing or backward indexing.\n",
    "# We can modify mutable data type using there index number.\n",
    "# Example of Mutable data type is list.\n",
    "la=[32342,543635,54676.656,True]\n",
    "la[1]=\"new\"\n",
    "la"
   ]
  },
  {
   "cell_type": "code",
   "execution_count": 22,
   "id": "469a5882-0a29-4beb-9f0d-3c6c12215ed3",
   "metadata": {},
   "outputs": [
    {
     "data": {
      "text/plain": [
       "'Deepjyoti'"
      ]
     },
     "execution_count": 22,
     "metadata": {},
     "output_type": "execute_result"
    }
   ],
   "source": [
    "# Immutable data types are those data types where indexing is not done.\n",
    "# We cannot modify immutable data type as they does not have index number.\n",
    "# Example of immutable data type is string\n",
    "st=\"Deepjyoti\"\n",
    "st"
   ]
  }
 ],
 "metadata": {
  "kernelspec": {
   "display_name": "Python 3 (ipykernel)",
   "language": "python",
   "name": "python3"
  },
  "language_info": {
   "codemirror_mode": {
    "name": "ipython",
    "version": 3
   },
   "file_extension": ".py",
   "mimetype": "text/x-python",
   "name": "python",
   "nbconvert_exporter": "python",
   "pygments_lexer": "ipython3",
   "version": "3.10.8"
  }
 },
 "nbformat": 4,
 "nbformat_minor": 5
}
